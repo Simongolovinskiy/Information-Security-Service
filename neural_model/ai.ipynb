{
 "cells": [
  {
   "cell_type": "code",
   "execution_count": 118,
   "metadata": {
    "ExecuteTime": {
     "end_time": "2024-04-12T19:25:33.426723500Z",
     "start_time": "2024-04-12T19:25:33.396208300Z"
    }
   },
   "outputs": [],
   "source": []
  },
  {
   "cell_type": "code",
   "execution_count": 119,
   "metadata": {
    "ExecuteTime": {
     "end_time": "2024-04-12T19:25:33.473740100Z",
     "start_time": "2024-04-12T19:25:33.431222Z"
    }
   },
   "outputs": [],
   "source": [
    "# importing required libraries\n",
    "import numpy as np\n",
    "import pandas as pd \n",
    "import pickle # saving and loading trained model\n",
    "from os import path\n",
    "\n",
    "# importing required libraries for normalizing data\n",
    "from sklearn import preprocessing\n",
    "from sklearn.preprocessing import StandardScaler\n",
    "\n",
    "# importing library for plotting\n",
    "import matplotlib.pyplot as plt\n",
    "import seaborn as sns\n",
    "\n",
    "from sklearn import metrics\n",
    "from sklearn.metrics import accuracy_score\n",
    "from sklearn.model_selection import train_test_split \n",
    "from sklearn.metrics import classification_report\n",
    "\n",
    "from sklearn.metrics import precision_score\n",
    "from sklearn.metrics import recall_score\n",
    "from sklearn.metrics import f1_score\n",
    "\n",
    "from sklearn.metrics import roc_auc_score\n",
    "from sklearn.metrics import roc_curve, auc\n",
    "\n",
    "import tensorflow as tf\n",
    "from keras.utils import to_categorical\n",
    "\n",
    "from keras.layers import Dense, LSTM, MaxPool1D, Flatten, Dropout # importing dense layer\n",
    "from keras.models import Sequential #importing Sequential layer\n",
    "from keras.layers import Input\n",
    "from keras.models import Model"
   ]
  },
  {
   "cell_type": "code",
   "execution_count": 120,
   "metadata": {
    "ExecuteTime": {
     "end_time": "2024-04-12T19:25:33.492753300Z",
     "start_time": "2024-04-12T19:25:33.476740900Z"
    }
   },
   "outputs": [],
   "source": [
    "feature=[\"duration\",\"protocol_type\",\"service\",\"flag\",\"src_bytes\",\"dst_bytes\",\"land\",\"wrong_fragment\",\"urgent\",\"hot\",\n",
    "          \"num_failed_logins\",\"logged_in\",\"num_compromised\",\"root_shell\",\"su_attempted\",\"num_root\",\"num_file_creations\",\"num_shells\",\n",
    "          \"num_access_files\",\"num_outbound_cmds\",\"is_host_login\",\"is_guest_login\",\"count\",\"srv_count\",\"serror_rate\",\"srv_serror_rate\",\n",
    "          \"rerror_rate\",\"srv_rerror_rate\",\"same_srv_rate\",\"diff_srv_rate\",\"srv_diff_host_rate\",\"dst_host_count\",\"dst_host_srv_count\", \n",
    "          \"dst_host_same_srv_rate\",\"dst_host_diff_srv_rate\",\"dst_host_same_src_port_rate\",\"dst_host_srv_diff_host_rate\",\"dst_host_serror_rate\",\n",
    "          \"dst_host_srv_serror_rate\",\"dst_host_rerror_rate\",\"dst_host_srv_rerror_rate\",\"label\",\"difficulty\"]"
   ]
  },
  {
   "cell_type": "code",
   "execution_count": 121,
   "metadata": {
    "ExecuteTime": {
     "end_time": "2024-04-12T19:25:34.249823700Z",
     "start_time": "2024-04-12T19:25:33.494751500Z"
    }
   },
   "outputs": [
    {
     "name": "stdout",
     "output_type": "stream",
     "text": [
      "        Unnamed: 0  duration protocol_type  service flag  src_bytes  \\\n",
      "136337      136337         4           tcp    pop_3   SF         32   \n",
      "75917        75917         0           tcp  private   S0          0   \n",
      "31492        31492         0           tcp  private   SH          0   \n",
      "73810        73810         0           tcp     http   SF        235   \n",
      "31324        31324         0           tcp     http   SF        284   \n",
      "...            ...       ...           ...      ...  ...        ...   \n",
      "124420      124420         0          icmp    eco_i   SF          8   \n",
      "113800      113800         0           tcp     http   SF        344   \n",
      "134103      134103         0           udp  private   SF         51   \n",
      "37025        37025         0           tcp      mtp   S0          0   \n",
      "104051      104051         1           tcp     http   SF      54540   \n",
      "\n",
      "        dst_bytes  land  wrong_fragment  urgent  ...  dst_host_same_srv_rate  \\\n",
      "136337         93     0               0       0  ...                    0.98   \n",
      "75917           0     0               0       0  ...                    0.02   \n",
      "31492           0     0               0       0  ...                    0.01   \n",
      "73810        9132     0               0       0  ...                    1.00   \n",
      "31324        6390     0               0       0  ...                    1.00   \n",
      "...           ...   ...             ...     ...  ...                     ...   \n",
      "124420          0     0               0       0  ...                    1.00   \n",
      "113800       7160     0               0       0  ...                    1.00   \n",
      "134103          0     0               0       0  ...                    1.00   \n",
      "37025           0     0               0       0  ...                    0.03   \n",
      "104051       8314     0               0       0  ...                    1.00   \n",
      "\n",
      "        dst_host_diff_srv_rate  dst_host_same_src_port_rate  \\\n",
      "136337                    0.05                         0.02   \n",
      "75917                     0.06                         0.00   \n",
      "31492                     0.94                         0.95   \n",
      "73810                     0.00                         0.01   \n",
      "31324                     0.00                         0.03   \n",
      "...                        ...                          ...   \n",
      "124420                    0.00                         1.00   \n",
      "113800                    0.00                         0.01   \n",
      "134103                    0.00                         0.00   \n",
      "37025                     0.07                         0.00   \n",
      "104051                    0.00                         0.00   \n",
      "\n",
      "        dst_host_srv_diff_host_rate  dst_host_serror_rate  \\\n",
      "136337                         0.05                  0.00   \n",
      "75917                          0.00                  1.00   \n",
      "31492                          0.00                  0.95   \n",
      "73810                          0.03                  0.00   \n",
      "31324                          0.05                  0.00   \n",
      "...                             ...                   ...   \n",
      "124420                         0.50                  0.00   \n",
      "113800                         0.01                  0.00   \n",
      "134103                         0.00                  0.00   \n",
      "37025                          0.00                  1.00   \n",
      "104051                         0.00                  0.01   \n",
      "\n",
      "        dst_host_srv_serror_rate  dst_host_rerror_rate  \\\n",
      "136337                      0.00                  0.00   \n",
      "75917                       1.00                  0.00   \n",
      "31492                       1.00                  0.00   \n",
      "73810                       0.00                  0.00   \n",
      "31324                       0.00                  0.00   \n",
      "...                          ...                   ...   \n",
      "124420                      0.00                  0.00   \n",
      "113800                      0.00                  0.00   \n",
      "134103                      0.00                  0.00   \n",
      "37025                       1.00                  0.00   \n",
      "104051                      0.01                  0.02   \n",
      "\n",
      "        dst_host_srv_rerror_rate         label  difficulty  \n",
      "136337                      0.00  guess_passwd           6  \n",
      "75917                       0.00       neptune          21  \n",
      "31492                       0.00          nmap          18  \n",
      "73810                       0.00        normal          21  \n",
      "31324                       0.00        normal          21  \n",
      "...                          ...           ...         ...  \n",
      "124420                      0.00       ipsweep          15  \n",
      "113800                      0.00        normal          21  \n",
      "134103                      0.00     snmpguess          14  \n",
      "37025                       0.00       neptune          20  \n",
      "104051                      0.02          back          16  \n",
      "\n",
      "[133665 rows x 44 columns]\n"
     ]
    }
   ],
   "source": [
    "def create_datas(data):\n",
    "    train_data_90_percent = data.sample(frac=0.9)\n",
    "    service_data = data.drop(train_data_90_percent.index)\n",
    "    service_data.to_csv(\"./nsl-kdd/data_for_service.csv\")  # that data needs for checking our analyzing model \n",
    "    return train_data_90_percent\n",
    "\n",
    "data = pd.read_csv(\"./nsl-kdd/data.csv\")\n",
    "data = create_datas(data)\n",
    "print(data)\n"
   ]
  },
  {
   "cell_type": "code",
   "execution_count": 122,
   "metadata": {
    "ExecuteTime": {
     "end_time": "2024-04-12T19:25:34.295262400Z",
     "start_time": "2024-04-12T19:25:34.246824900Z"
    }
   },
   "outputs": [],
   "source": [
    "data.drop(['difficulty'],axis=1,inplace=True)\n"
   ]
  },
  {
   "cell_type": "code",
   "execution_count": 123,
   "metadata": {
    "ExecuteTime": {
     "end_time": "2024-04-12T19:25:34.422263700Z",
     "start_time": "2024-04-12T19:25:34.279264600Z"
    }
   },
   "outputs": [
    {
     "name": "stderr",
     "output_type": "stream",
     "text": [
      "C:\\Users\\wasa\\AppData\\Local\\Temp\\ipykernel_12628\\3899967073.py:3: FutureWarning: A value is trying to be set on a copy of a DataFrame or Series through chained assignment using an inplace method.\n",
      "The behavior will change in pandas 3.0. This inplace method will never work because the intermediate object on which we are setting values always behaves as a copy.\n",
      "\n",
      "For example, when doing 'df[col].method(value, inplace=True)', try using 'df.method({col: value}, inplace=True)' or df[col] = df[col].method(value) instead, to perform the operation inplace on the original object.\n",
      "\n",
      "\n",
      "  df.label.replace(['apache2','back','land','neptune','mailbomb','pod','processtable','smurf','teardrop','udpstorm','worm'],'Dos',inplace=True)\n"
     ]
    }
   ],
   "source": [
    "# Redistribute across common attack class\n",
    "def change_label(df):\n",
    "    df.label.replace(['apache2','back','land','neptune','mailbomb','pod','processtable','smurf','teardrop','udpstorm','worm'],'Dos',inplace=True)\n",
    "    df.label.replace(['ftp_write','guess_passwd','httptunnel','imap','multihop','named','phf','sendmail','snmpgetattack','snmpguess','spy','warezclient','warezmaster','xlock','xsnoop'],'R2L',inplace=True)      \n",
    "    df.label.replace(['ipsweep','mscan','nmap','portsweep','saint','satan'],'Probe',inplace=True)\n",
    "    df.label.replace(['buffer_overflow','loadmodule','perl','ps','rootkit','sqlattack','xterm'],'U2R',inplace=True)\n",
    "    df = df[df['label'] != 'U2R']\n",
    "    return df \n",
    "\n",
    "data = change_label(data)"
   ]
  },
  {
   "cell_type": "code",
   "execution_count": 124,
   "metadata": {
    "ExecuteTime": {
     "end_time": "2024-04-12T19:25:34.473375900Z",
     "start_time": "2024-04-12T19:25:34.418262700Z"
    }
   },
   "outputs": [
    {
     "data": {
      "text/plain": "        Unnamed: 0  duration protocol_type  service flag  src_bytes  \\\n136337      136337         4           tcp    pop_3   SF         32   \n75917        75917         0           tcp  private   S0          0   \n31492        31492         0           tcp  private   SH          0   \n73810        73810         0           tcp     http   SF        235   \n31324        31324         0           tcp     http   SF        284   \n...            ...       ...           ...      ...  ...        ...   \n124420      124420         0          icmp    eco_i   SF          8   \n113800      113800         0           tcp     http   SF        344   \n134103      134103         0           udp  private   SF         51   \n37025        37025         0           tcp      mtp   S0          0   \n104051      104051         1           tcp     http   SF      54540   \n\n        dst_bytes  land  wrong_fragment  urgent  ...  dst_host_srv_count  \\\n136337         93     0               0       0  ...                  42   \n75917           0     0               0       0  ...                   6   \n31492           0     0               0       0  ...                   1   \n73810        9132     0               0       0  ...                 255   \n31324        6390     0               0       0  ...                 130   \n...           ...   ...             ...     ...  ...                 ...   \n124420          0     0               0       0  ...                  40   \n113800       7160     0               0       0  ...                 255   \n134103          0     0               0       0  ...                 255   \n37025           0     0               0       0  ...                   7   \n104051       8314     0               0       0  ...                 255   \n\n        dst_host_same_srv_rate  dst_host_diff_srv_rate  \\\n136337                    0.98                    0.05   \n75917                     0.02                    0.06   \n31492                     0.01                    0.94   \n73810                     1.00                    0.00   \n31324                     1.00                    0.00   \n...                        ...                     ...   \n124420                    1.00                    0.00   \n113800                    1.00                    0.00   \n134103                    1.00                    0.00   \n37025                     0.03                    0.07   \n104051                    1.00                    0.00   \n\n        dst_host_same_src_port_rate  dst_host_srv_diff_host_rate  \\\n136337                         0.02                         0.05   \n75917                          0.00                         0.00   \n31492                          0.95                         0.00   \n73810                          0.01                         0.03   \n31324                          0.03                         0.05   \n...                             ...                          ...   \n124420                         1.00                         0.50   \n113800                         0.01                         0.01   \n134103                         0.00                         0.00   \n37025                          0.00                         0.00   \n104051                         0.00                         0.00   \n\n        dst_host_serror_rate  dst_host_srv_serror_rate  dst_host_rerror_rate  \\\n136337                  0.00                      0.00                  0.00   \n75917                   1.00                      1.00                  0.00   \n31492                   0.95                      1.00                  0.00   \n73810                   0.00                      0.00                  0.00   \n31324                   0.00                      0.00                  0.00   \n...                      ...                       ...                   ...   \n124420                  0.00                      0.00                  0.00   \n113800                  0.00                      0.00                  0.00   \n134103                  0.00                      0.00                  0.00   \n37025                   1.00                      1.00                  0.00   \n104051                  0.01                      0.01                  0.02   \n\n        dst_host_srv_rerror_rate   label  \n136337                      0.00     R2L  \n75917                       0.00     Dos  \n31492                       0.00   Probe  \n73810                       0.00  normal  \n31324                       0.00  normal  \n...                          ...     ...  \n124420                      0.00   Probe  \n113800                      0.00  normal  \n134103                      0.00     R2L  \n37025                       0.00     Dos  \n104051                      0.02     Dos  \n\n[133563 rows x 43 columns]",
      "text/html": "<div>\n<style scoped>\n    .dataframe tbody tr th:only-of-type {\n        vertical-align: middle;\n    }\n\n    .dataframe tbody tr th {\n        vertical-align: top;\n    }\n\n    .dataframe thead th {\n        text-align: right;\n    }\n</style>\n<table border=\"1\" class=\"dataframe\">\n  <thead>\n    <tr style=\"text-align: right;\">\n      <th></th>\n      <th>Unnamed: 0</th>\n      <th>duration</th>\n      <th>protocol_type</th>\n      <th>service</th>\n      <th>flag</th>\n      <th>src_bytes</th>\n      <th>dst_bytes</th>\n      <th>land</th>\n      <th>wrong_fragment</th>\n      <th>urgent</th>\n      <th>...</th>\n      <th>dst_host_srv_count</th>\n      <th>dst_host_same_srv_rate</th>\n      <th>dst_host_diff_srv_rate</th>\n      <th>dst_host_same_src_port_rate</th>\n      <th>dst_host_srv_diff_host_rate</th>\n      <th>dst_host_serror_rate</th>\n      <th>dst_host_srv_serror_rate</th>\n      <th>dst_host_rerror_rate</th>\n      <th>dst_host_srv_rerror_rate</th>\n      <th>label</th>\n    </tr>\n  </thead>\n  <tbody>\n    <tr>\n      <th>136337</th>\n      <td>136337</td>\n      <td>4</td>\n      <td>tcp</td>\n      <td>pop_3</td>\n      <td>SF</td>\n      <td>32</td>\n      <td>93</td>\n      <td>0</td>\n      <td>0</td>\n      <td>0</td>\n      <td>...</td>\n      <td>42</td>\n      <td>0.98</td>\n      <td>0.05</td>\n      <td>0.02</td>\n      <td>0.05</td>\n      <td>0.00</td>\n      <td>0.00</td>\n      <td>0.00</td>\n      <td>0.00</td>\n      <td>R2L</td>\n    </tr>\n    <tr>\n      <th>75917</th>\n      <td>75917</td>\n      <td>0</td>\n      <td>tcp</td>\n      <td>private</td>\n      <td>S0</td>\n      <td>0</td>\n      <td>0</td>\n      <td>0</td>\n      <td>0</td>\n      <td>0</td>\n      <td>...</td>\n      <td>6</td>\n      <td>0.02</td>\n      <td>0.06</td>\n      <td>0.00</td>\n      <td>0.00</td>\n      <td>1.00</td>\n      <td>1.00</td>\n      <td>0.00</td>\n      <td>0.00</td>\n      <td>Dos</td>\n    </tr>\n    <tr>\n      <th>31492</th>\n      <td>31492</td>\n      <td>0</td>\n      <td>tcp</td>\n      <td>private</td>\n      <td>SH</td>\n      <td>0</td>\n      <td>0</td>\n      <td>0</td>\n      <td>0</td>\n      <td>0</td>\n      <td>...</td>\n      <td>1</td>\n      <td>0.01</td>\n      <td>0.94</td>\n      <td>0.95</td>\n      <td>0.00</td>\n      <td>0.95</td>\n      <td>1.00</td>\n      <td>0.00</td>\n      <td>0.00</td>\n      <td>Probe</td>\n    </tr>\n    <tr>\n      <th>73810</th>\n      <td>73810</td>\n      <td>0</td>\n      <td>tcp</td>\n      <td>http</td>\n      <td>SF</td>\n      <td>235</td>\n      <td>9132</td>\n      <td>0</td>\n      <td>0</td>\n      <td>0</td>\n      <td>...</td>\n      <td>255</td>\n      <td>1.00</td>\n      <td>0.00</td>\n      <td>0.01</td>\n      <td>0.03</td>\n      <td>0.00</td>\n      <td>0.00</td>\n      <td>0.00</td>\n      <td>0.00</td>\n      <td>normal</td>\n    </tr>\n    <tr>\n      <th>31324</th>\n      <td>31324</td>\n      <td>0</td>\n      <td>tcp</td>\n      <td>http</td>\n      <td>SF</td>\n      <td>284</td>\n      <td>6390</td>\n      <td>0</td>\n      <td>0</td>\n      <td>0</td>\n      <td>...</td>\n      <td>130</td>\n      <td>1.00</td>\n      <td>0.00</td>\n      <td>0.03</td>\n      <td>0.05</td>\n      <td>0.00</td>\n      <td>0.00</td>\n      <td>0.00</td>\n      <td>0.00</td>\n      <td>normal</td>\n    </tr>\n    <tr>\n      <th>...</th>\n      <td>...</td>\n      <td>...</td>\n      <td>...</td>\n      <td>...</td>\n      <td>...</td>\n      <td>...</td>\n      <td>...</td>\n      <td>...</td>\n      <td>...</td>\n      <td>...</td>\n      <td>...</td>\n      <td>...</td>\n      <td>...</td>\n      <td>...</td>\n      <td>...</td>\n      <td>...</td>\n      <td>...</td>\n      <td>...</td>\n      <td>...</td>\n      <td>...</td>\n      <td>...</td>\n    </tr>\n    <tr>\n      <th>124420</th>\n      <td>124420</td>\n      <td>0</td>\n      <td>icmp</td>\n      <td>eco_i</td>\n      <td>SF</td>\n      <td>8</td>\n      <td>0</td>\n      <td>0</td>\n      <td>0</td>\n      <td>0</td>\n      <td>...</td>\n      <td>40</td>\n      <td>1.00</td>\n      <td>0.00</td>\n      <td>1.00</td>\n      <td>0.50</td>\n      <td>0.00</td>\n      <td>0.00</td>\n      <td>0.00</td>\n      <td>0.00</td>\n      <td>Probe</td>\n    </tr>\n    <tr>\n      <th>113800</th>\n      <td>113800</td>\n      <td>0</td>\n      <td>tcp</td>\n      <td>http</td>\n      <td>SF</td>\n      <td>344</td>\n      <td>7160</td>\n      <td>0</td>\n      <td>0</td>\n      <td>0</td>\n      <td>...</td>\n      <td>255</td>\n      <td>1.00</td>\n      <td>0.00</td>\n      <td>0.01</td>\n      <td>0.01</td>\n      <td>0.00</td>\n      <td>0.00</td>\n      <td>0.00</td>\n      <td>0.00</td>\n      <td>normal</td>\n    </tr>\n    <tr>\n      <th>134103</th>\n      <td>134103</td>\n      <td>0</td>\n      <td>udp</td>\n      <td>private</td>\n      <td>SF</td>\n      <td>51</td>\n      <td>0</td>\n      <td>0</td>\n      <td>0</td>\n      <td>0</td>\n      <td>...</td>\n      <td>255</td>\n      <td>1.00</td>\n      <td>0.00</td>\n      <td>0.00</td>\n      <td>0.00</td>\n      <td>0.00</td>\n      <td>0.00</td>\n      <td>0.00</td>\n      <td>0.00</td>\n      <td>R2L</td>\n    </tr>\n    <tr>\n      <th>37025</th>\n      <td>37025</td>\n      <td>0</td>\n      <td>tcp</td>\n      <td>mtp</td>\n      <td>S0</td>\n      <td>0</td>\n      <td>0</td>\n      <td>0</td>\n      <td>0</td>\n      <td>0</td>\n      <td>...</td>\n      <td>7</td>\n      <td>0.03</td>\n      <td>0.07</td>\n      <td>0.00</td>\n      <td>0.00</td>\n      <td>1.00</td>\n      <td>1.00</td>\n      <td>0.00</td>\n      <td>0.00</td>\n      <td>Dos</td>\n    </tr>\n    <tr>\n      <th>104051</th>\n      <td>104051</td>\n      <td>1</td>\n      <td>tcp</td>\n      <td>http</td>\n      <td>SF</td>\n      <td>54540</td>\n      <td>8314</td>\n      <td>0</td>\n      <td>0</td>\n      <td>0</td>\n      <td>...</td>\n      <td>255</td>\n      <td>1.00</td>\n      <td>0.00</td>\n      <td>0.00</td>\n      <td>0.00</td>\n      <td>0.01</td>\n      <td>0.01</td>\n      <td>0.02</td>\n      <td>0.02</td>\n      <td>Dos</td>\n    </tr>\n  </tbody>\n</table>\n<p>133563 rows × 43 columns</p>\n</div>"
     },
     "execution_count": 124,
     "metadata": {},
     "output_type": "execute_result"
    }
   ],
   "source": [
    "data"
   ]
  },
  {
   "cell_type": "code",
   "execution_count": 125,
   "metadata": {
    "ExecuteTime": {
     "end_time": "2024-04-12T19:25:34.482281200Z",
     "start_time": "2024-04-12T19:25:34.473375900Z"
    }
   },
   "outputs": [],
   "source": [
    "label = pd.DataFrame(data.label)"
   ]
  },
  {
   "cell_type": "code",
   "execution_count": 126,
   "metadata": {
    "ExecuteTime": {
     "end_time": "2024-04-12T19:25:34.492282800Z",
     "start_time": "2024-04-12T19:25:34.477281900Z"
    }
   },
   "outputs": [
    {
     "data": {
      "text/plain": "         label\n136337     R2L\n75917      Dos\n31492    Probe\n73810   normal\n31324   normal\n...        ...\n124420   Probe\n113800  normal\n134103     R2L\n37025      Dos\n104051     Dos\n\n[133563 rows x 1 columns]",
      "text/html": "<div>\n<style scoped>\n    .dataframe tbody tr th:only-of-type {\n        vertical-align: middle;\n    }\n\n    .dataframe tbody tr th {\n        vertical-align: top;\n    }\n\n    .dataframe thead th {\n        text-align: right;\n    }\n</style>\n<table border=\"1\" class=\"dataframe\">\n  <thead>\n    <tr style=\"text-align: right;\">\n      <th></th>\n      <th>label</th>\n    </tr>\n  </thead>\n  <tbody>\n    <tr>\n      <th>136337</th>\n      <td>R2L</td>\n    </tr>\n    <tr>\n      <th>75917</th>\n      <td>Dos</td>\n    </tr>\n    <tr>\n      <th>31492</th>\n      <td>Probe</td>\n    </tr>\n    <tr>\n      <th>73810</th>\n      <td>normal</td>\n    </tr>\n    <tr>\n      <th>31324</th>\n      <td>normal</td>\n    </tr>\n    <tr>\n      <th>...</th>\n      <td>...</td>\n    </tr>\n    <tr>\n      <th>124420</th>\n      <td>Probe</td>\n    </tr>\n    <tr>\n      <th>113800</th>\n      <td>normal</td>\n    </tr>\n    <tr>\n      <th>134103</th>\n      <td>R2L</td>\n    </tr>\n    <tr>\n      <th>37025</th>\n      <td>Dos</td>\n    </tr>\n    <tr>\n      <th>104051</th>\n      <td>Dos</td>\n    </tr>\n  </tbody>\n</table>\n<p>133563 rows × 1 columns</p>\n</div>"
     },
     "execution_count": 126,
     "metadata": {},
     "output_type": "execute_result"
    }
   ],
   "source": [
    "label"
   ]
  },
  {
   "cell_type": "code",
   "execution_count": 127,
   "metadata": {
    "ExecuteTime": {
     "end_time": "2024-04-12T19:25:34.628923900Z",
     "start_time": "2024-04-12T19:25:34.492282800Z"
    }
   },
   "outputs": [],
   "source": [
    "# using standard scaler for normalizing\n",
    "std_scaler = StandardScaler()\n",
    "def standardization(df,col):\n",
    "    for i in col:\n",
    "        arr = df[i]\n",
    "        arr = np.array(arr)\n",
    "        df[i] = std_scaler.fit_transform(arr.reshape(len(arr),1))\n",
    "    return df\n",
    "\n",
    "numeric_col = data.select_dtypes(include='number').columns\n",
    "data = standardization(data,numeric_col)"
   ]
  },
  {
   "cell_type": "code",
   "execution_count": 128,
   "metadata": {
    "ExecuteTime": {
     "end_time": "2024-04-12T19:25:34.734922700Z",
     "start_time": "2024-04-12T19:25:34.614923600Z"
    }
   },
   "outputs": [
    {
     "name": "stdout",
     "output_type": "stream",
     "text": [
      "(133563, 44)\n"
     ]
    },
    {
     "data": {
      "text/plain": "        Unnamed: 0  duration protocol_type  service flag  src_bytes  \\\n136337    1.450498 -0.111272           tcp    pop_3   SF  -0.007285   \n75917     0.039314 -0.112893           tcp  private   S0  -0.007291   \n31492    -0.998288 -0.112893           tcp  private   SH  -0.007291   \n73810    -0.009898 -0.112893           tcp     http   SF  -0.007250   \n31324    -1.002211 -0.112893           tcp     http   SF  -0.007241   \n...            ...       ...           ...      ...  ...        ...   \n124420    1.172162 -0.112893          icmp    eco_i   SF  -0.007290   \n113800    0.924118 -0.112893           tcp     http   SF  -0.007230   \n134103    1.398320 -0.112893           udp  private   SF  -0.007282   \n37025    -0.869058 -0.112893           tcp      mtp   S0  -0.007291   \n104051    0.696418 -0.112488           tcp     http   SF   0.002332   \n\n        dst_bytes      land  wrong_fragment   urgent  ...  \\\n136337  -0.004145 -0.014219       -0.085872 -0.00683  ...   \n75917   -0.004170 -0.014219       -0.085872 -0.00683  ...   \n31492   -0.004170 -0.014219       -0.085872 -0.00683  ...   \n73810   -0.001734 -0.014219       -0.085872 -0.00683  ...   \n31324   -0.002465 -0.014219       -0.085872 -0.00683  ...   \n...           ...       ...             ...      ...  ...   \n124420  -0.004170 -0.014219       -0.085872 -0.00683  ...   \n113800  -0.002260 -0.014219       -0.085872 -0.00683  ...   \n134103  -0.004170 -0.014219       -0.085872 -0.00683  ...   \n37025   -0.004170 -0.014219       -0.085872 -0.00683  ...   \n104051  -0.001952 -0.014219       -0.085872 -0.00683  ...   \n\n        dst_host_same_srv_rate  dst_host_diff_srv_rate  \\\n136337                0.994101               -0.175950   \n75917                -1.147942               -0.124480   \n31492                -1.170255                4.404910   \n73810                 1.038727               -0.433302   \n31324                 1.038727               -0.433302   \n...                        ...                     ...   \n124420                1.038727               -0.433302   \n113800                1.038727               -0.433302   \n134103                1.038727               -0.433302   \n37025                -1.125629               -0.073009   \n104051                1.038727               -0.433302   \n\n        dst_host_same_src_port_rate  dst_host_srv_diff_host_rate  \\\n136337                    -0.406801                     0.180853   \n75917                     -0.471735                    -0.280473   \n31492                      2.612620                    -0.280473   \n73810                     -0.439268                    -0.003677   \n31324                     -0.374334                     0.180853   \n...                             ...                          ...   \n124420                     2.774955                     4.332787   \n113800                    -0.439268                    -0.188207   \n134103                    -0.471735                    -0.280473   \n37025                     -0.471735                    -0.280473   \n104051                    -0.471735                    -0.280473   \n\n        dst_host_serror_rate  dst_host_srv_serror_rate  dst_host_rerror_rate  \\\n136337             -0.598506                 -0.585522             -0.422043   \n75917               1.733656                  1.740225             -0.422043   \n31492               1.617048                  1.740225             -0.422043   \n73810              -0.598506                 -0.585522             -0.422043   \n31324              -0.598506                 -0.585522             -0.422043   \n...                      ...                       ...                   ...   \n124420             -0.598506                 -0.585522             -0.422043   \n113800             -0.598506                 -0.585522             -0.422043   \n134103             -0.598506                 -0.585522             -0.422043   \n37025               1.733656                  1.740225             -0.422043   \n104051             -0.575184                 -0.562265             -0.360089   \n\n        dst_host_srv_rerror_rate   label  intrusion  \n136337                 -0.407067     R2L          2  \n75917                  -0.407067     Dos          0  \n31492                  -0.407067   Probe          1  \n73810                  -0.407067  normal          3  \n31324                  -0.407067  normal          3  \n...                          ...     ...        ...  \n124420                 -0.407067   Probe          1  \n113800                 -0.407067  normal          3  \n134103                 -0.407067     R2L          2  \n37025                  -0.407067     Dos          0  \n104051                 -0.347448     Dos          0  \n\n[133563 rows x 44 columns]",
      "text/html": "<div>\n<style scoped>\n    .dataframe tbody tr th:only-of-type {\n        vertical-align: middle;\n    }\n\n    .dataframe tbody tr th {\n        vertical-align: top;\n    }\n\n    .dataframe thead th {\n        text-align: right;\n    }\n</style>\n<table border=\"1\" class=\"dataframe\">\n  <thead>\n    <tr style=\"text-align: right;\">\n      <th></th>\n      <th>Unnamed: 0</th>\n      <th>duration</th>\n      <th>protocol_type</th>\n      <th>service</th>\n      <th>flag</th>\n      <th>src_bytes</th>\n      <th>dst_bytes</th>\n      <th>land</th>\n      <th>wrong_fragment</th>\n      <th>urgent</th>\n      <th>...</th>\n      <th>dst_host_same_srv_rate</th>\n      <th>dst_host_diff_srv_rate</th>\n      <th>dst_host_same_src_port_rate</th>\n      <th>dst_host_srv_diff_host_rate</th>\n      <th>dst_host_serror_rate</th>\n      <th>dst_host_srv_serror_rate</th>\n      <th>dst_host_rerror_rate</th>\n      <th>dst_host_srv_rerror_rate</th>\n      <th>label</th>\n      <th>intrusion</th>\n    </tr>\n  </thead>\n  <tbody>\n    <tr>\n      <th>136337</th>\n      <td>1.450498</td>\n      <td>-0.111272</td>\n      <td>tcp</td>\n      <td>pop_3</td>\n      <td>SF</td>\n      <td>-0.007285</td>\n      <td>-0.004145</td>\n      <td>-0.014219</td>\n      <td>-0.085872</td>\n      <td>-0.00683</td>\n      <td>...</td>\n      <td>0.994101</td>\n      <td>-0.175950</td>\n      <td>-0.406801</td>\n      <td>0.180853</td>\n      <td>-0.598506</td>\n      <td>-0.585522</td>\n      <td>-0.422043</td>\n      <td>-0.407067</td>\n      <td>R2L</td>\n      <td>2</td>\n    </tr>\n    <tr>\n      <th>75917</th>\n      <td>0.039314</td>\n      <td>-0.112893</td>\n      <td>tcp</td>\n      <td>private</td>\n      <td>S0</td>\n      <td>-0.007291</td>\n      <td>-0.004170</td>\n      <td>-0.014219</td>\n      <td>-0.085872</td>\n      <td>-0.00683</td>\n      <td>...</td>\n      <td>-1.147942</td>\n      <td>-0.124480</td>\n      <td>-0.471735</td>\n      <td>-0.280473</td>\n      <td>1.733656</td>\n      <td>1.740225</td>\n      <td>-0.422043</td>\n      <td>-0.407067</td>\n      <td>Dos</td>\n      <td>0</td>\n    </tr>\n    <tr>\n      <th>31492</th>\n      <td>-0.998288</td>\n      <td>-0.112893</td>\n      <td>tcp</td>\n      <td>private</td>\n      <td>SH</td>\n      <td>-0.007291</td>\n      <td>-0.004170</td>\n      <td>-0.014219</td>\n      <td>-0.085872</td>\n      <td>-0.00683</td>\n      <td>...</td>\n      <td>-1.170255</td>\n      <td>4.404910</td>\n      <td>2.612620</td>\n      <td>-0.280473</td>\n      <td>1.617048</td>\n      <td>1.740225</td>\n      <td>-0.422043</td>\n      <td>-0.407067</td>\n      <td>Probe</td>\n      <td>1</td>\n    </tr>\n    <tr>\n      <th>73810</th>\n      <td>-0.009898</td>\n      <td>-0.112893</td>\n      <td>tcp</td>\n      <td>http</td>\n      <td>SF</td>\n      <td>-0.007250</td>\n      <td>-0.001734</td>\n      <td>-0.014219</td>\n      <td>-0.085872</td>\n      <td>-0.00683</td>\n      <td>...</td>\n      <td>1.038727</td>\n      <td>-0.433302</td>\n      <td>-0.439268</td>\n      <td>-0.003677</td>\n      <td>-0.598506</td>\n      <td>-0.585522</td>\n      <td>-0.422043</td>\n      <td>-0.407067</td>\n      <td>normal</td>\n      <td>3</td>\n    </tr>\n    <tr>\n      <th>31324</th>\n      <td>-1.002211</td>\n      <td>-0.112893</td>\n      <td>tcp</td>\n      <td>http</td>\n      <td>SF</td>\n      <td>-0.007241</td>\n      <td>-0.002465</td>\n      <td>-0.014219</td>\n      <td>-0.085872</td>\n      <td>-0.00683</td>\n      <td>...</td>\n      <td>1.038727</td>\n      <td>-0.433302</td>\n      <td>-0.374334</td>\n      <td>0.180853</td>\n      <td>-0.598506</td>\n      <td>-0.585522</td>\n      <td>-0.422043</td>\n      <td>-0.407067</td>\n      <td>normal</td>\n      <td>3</td>\n    </tr>\n    <tr>\n      <th>...</th>\n      <td>...</td>\n      <td>...</td>\n      <td>...</td>\n      <td>...</td>\n      <td>...</td>\n      <td>...</td>\n      <td>...</td>\n      <td>...</td>\n      <td>...</td>\n      <td>...</td>\n      <td>...</td>\n      <td>...</td>\n      <td>...</td>\n      <td>...</td>\n      <td>...</td>\n      <td>...</td>\n      <td>...</td>\n      <td>...</td>\n      <td>...</td>\n      <td>...</td>\n      <td>...</td>\n    </tr>\n    <tr>\n      <th>124420</th>\n      <td>1.172162</td>\n      <td>-0.112893</td>\n      <td>icmp</td>\n      <td>eco_i</td>\n      <td>SF</td>\n      <td>-0.007290</td>\n      <td>-0.004170</td>\n      <td>-0.014219</td>\n      <td>-0.085872</td>\n      <td>-0.00683</td>\n      <td>...</td>\n      <td>1.038727</td>\n      <td>-0.433302</td>\n      <td>2.774955</td>\n      <td>4.332787</td>\n      <td>-0.598506</td>\n      <td>-0.585522</td>\n      <td>-0.422043</td>\n      <td>-0.407067</td>\n      <td>Probe</td>\n      <td>1</td>\n    </tr>\n    <tr>\n      <th>113800</th>\n      <td>0.924118</td>\n      <td>-0.112893</td>\n      <td>tcp</td>\n      <td>http</td>\n      <td>SF</td>\n      <td>-0.007230</td>\n      <td>-0.002260</td>\n      <td>-0.014219</td>\n      <td>-0.085872</td>\n      <td>-0.00683</td>\n      <td>...</td>\n      <td>1.038727</td>\n      <td>-0.433302</td>\n      <td>-0.439268</td>\n      <td>-0.188207</td>\n      <td>-0.598506</td>\n      <td>-0.585522</td>\n      <td>-0.422043</td>\n      <td>-0.407067</td>\n      <td>normal</td>\n      <td>3</td>\n    </tr>\n    <tr>\n      <th>134103</th>\n      <td>1.398320</td>\n      <td>-0.112893</td>\n      <td>udp</td>\n      <td>private</td>\n      <td>SF</td>\n      <td>-0.007282</td>\n      <td>-0.004170</td>\n      <td>-0.014219</td>\n      <td>-0.085872</td>\n      <td>-0.00683</td>\n      <td>...</td>\n      <td>1.038727</td>\n      <td>-0.433302</td>\n      <td>-0.471735</td>\n      <td>-0.280473</td>\n      <td>-0.598506</td>\n      <td>-0.585522</td>\n      <td>-0.422043</td>\n      <td>-0.407067</td>\n      <td>R2L</td>\n      <td>2</td>\n    </tr>\n    <tr>\n      <th>37025</th>\n      <td>-0.869058</td>\n      <td>-0.112893</td>\n      <td>tcp</td>\n      <td>mtp</td>\n      <td>S0</td>\n      <td>-0.007291</td>\n      <td>-0.004170</td>\n      <td>-0.014219</td>\n      <td>-0.085872</td>\n      <td>-0.00683</td>\n      <td>...</td>\n      <td>-1.125629</td>\n      <td>-0.073009</td>\n      <td>-0.471735</td>\n      <td>-0.280473</td>\n      <td>1.733656</td>\n      <td>1.740225</td>\n      <td>-0.422043</td>\n      <td>-0.407067</td>\n      <td>Dos</td>\n      <td>0</td>\n    </tr>\n    <tr>\n      <th>104051</th>\n      <td>0.696418</td>\n      <td>-0.112488</td>\n      <td>tcp</td>\n      <td>http</td>\n      <td>SF</td>\n      <td>0.002332</td>\n      <td>-0.001952</td>\n      <td>-0.014219</td>\n      <td>-0.085872</td>\n      <td>-0.00683</td>\n      <td>...</td>\n      <td>1.038727</td>\n      <td>-0.433302</td>\n      <td>-0.471735</td>\n      <td>-0.280473</td>\n      <td>-0.575184</td>\n      <td>-0.562265</td>\n      <td>-0.360089</td>\n      <td>-0.347448</td>\n      <td>Dos</td>\n      <td>0</td>\n    </tr>\n  </tbody>\n</table>\n<p>133563 rows × 44 columns</p>\n</div>"
     },
     "execution_count": 128,
     "metadata": {},
     "output_type": "execute_result"
    }
   ],
   "source": [
    "le2 = preprocessing.LabelEncoder()\n",
    "enc_label = label.apply(le2.fit_transform)\n",
    "data['intrusion'] = enc_label\n",
    "print(data.shape)\n",
    "data"
   ]
  },
  {
   "cell_type": "code",
   "execution_count": 129,
   "metadata": {
    "ExecuteTime": {
     "end_time": "2024-04-12T19:25:34.737760Z",
     "start_time": "2024-04-12T19:25:34.731924800Z"
    }
   },
   "outputs": [
    {
     "data": {
      "text/plain": "       label  intrusion\n136337   R2L          2\n137666   R2L          2\n139522   R2L          2\n138912   R2L          2\n23677    R2L          2\n...      ...        ...\n136979   R2L          2\n136625   R2L          2\n20904    R2L          2\n141663   R2L          2\n134103   R2L          2\n\n[3483 rows x 2 columns]",
      "text/html": "<div>\n<style scoped>\n    .dataframe tbody tr th:only-of-type {\n        vertical-align: middle;\n    }\n\n    .dataframe tbody tr th {\n        vertical-align: top;\n    }\n\n    .dataframe thead th {\n        text-align: right;\n    }\n</style>\n<table border=\"1\" class=\"dataframe\">\n  <thead>\n    <tr style=\"text-align: right;\">\n      <th></th>\n      <th>label</th>\n      <th>intrusion</th>\n    </tr>\n  </thead>\n  <tbody>\n    <tr>\n      <th>136337</th>\n      <td>R2L</td>\n      <td>2</td>\n    </tr>\n    <tr>\n      <th>137666</th>\n      <td>R2L</td>\n      <td>2</td>\n    </tr>\n    <tr>\n      <th>139522</th>\n      <td>R2L</td>\n      <td>2</td>\n    </tr>\n    <tr>\n      <th>138912</th>\n      <td>R2L</td>\n      <td>2</td>\n    </tr>\n    <tr>\n      <th>23677</th>\n      <td>R2L</td>\n      <td>2</td>\n    </tr>\n    <tr>\n      <th>...</th>\n      <td>...</td>\n      <td>...</td>\n    </tr>\n    <tr>\n      <th>136979</th>\n      <td>R2L</td>\n      <td>2</td>\n    </tr>\n    <tr>\n      <th>136625</th>\n      <td>R2L</td>\n      <td>2</td>\n    </tr>\n    <tr>\n      <th>20904</th>\n      <td>R2L</td>\n      <td>2</td>\n    </tr>\n    <tr>\n      <th>141663</th>\n      <td>R2L</td>\n      <td>2</td>\n    </tr>\n    <tr>\n      <th>134103</th>\n      <td>R2L</td>\n      <td>2</td>\n    </tr>\n  </tbody>\n</table>\n<p>3483 rows × 2 columns</p>\n</div>"
     },
     "execution_count": 129,
     "metadata": {},
     "output_type": "execute_result"
    }
   ],
   "source": [
    "data[['label', 'intrusion']][data['intrusion'] == 2]"
   ]
  },
  {
   "cell_type": "code",
   "execution_count": 130,
   "metadata": {
    "ExecuteTime": {
     "end_time": "2024-04-12T19:25:34.856904100Z",
     "start_time": "2024-04-12T19:25:34.739756400Z"
    }
   },
   "outputs": [
    {
     "name": "stdout",
     "output_type": "stream",
     "text": [
      "(133563, 43)\n"
     ]
    }
   ],
   "source": [
    "data.drop(labels= ['label'], axis=1, inplace=True)\n",
    "print(data.shape)"
   ]
  },
  {
   "cell_type": "code",
   "execution_count": 131,
   "metadata": {
    "ExecuteTime": {
     "end_time": "2024-04-12T19:25:34.976896700Z",
     "start_time": "2024-04-12T19:25:34.784903900Z"
    }
   },
   "outputs": [
    {
     "name": "stdout",
     "output_type": "stream",
     "text": [
      "(133563, 123)\n",
      "        Unnamed: 0  duration  src_bytes  dst_bytes      land  wrong_fragment  \\\n",
      "136337    1.450498 -0.111272  -0.007285  -0.004145 -0.014219       -0.085872   \n",
      "75917     0.039314 -0.112893  -0.007291  -0.004170 -0.014219       -0.085872   \n",
      "31492    -0.998288 -0.112893  -0.007291  -0.004170 -0.014219       -0.085872   \n",
      "73810    -0.009898 -0.112893  -0.007250  -0.001734 -0.014219       -0.085872   \n",
      "31324    -1.002211 -0.112893  -0.007241  -0.002465 -0.014219       -0.085872   \n",
      "...            ...       ...        ...        ...       ...             ...   \n",
      "124420    1.172162 -0.112893  -0.007290  -0.004170 -0.014219       -0.085872   \n",
      "113800    0.924118 -0.112893  -0.007230  -0.002260 -0.014219       -0.085872   \n",
      "134103    1.398320 -0.112893  -0.007282  -0.004170 -0.014219       -0.085872   \n",
      "37025    -0.869058 -0.112893  -0.007291  -0.004170 -0.014219       -0.085872   \n",
      "104051    0.696418 -0.112488   0.002332  -0.001952 -0.014219       -0.085872   \n",
      "\n",
      "         urgent       hot  num_failed_logins  logged_in  ...    REJ   RSTO  \\\n",
      "136337 -0.00683 -0.093171          -0.059062   1.217955  ...  False  False   \n",
      "75917  -0.00683 -0.093171          -0.059062  -0.821048  ...  False  False   \n",
      "31492  -0.00683 -0.093171          -0.059062  -0.821048  ...  False  False   \n",
      "73810  -0.00683 -0.093171          -0.059062   1.217955  ...  False  False   \n",
      "31324  -0.00683 -0.093171          -0.059062   1.217955  ...  False  False   \n",
      "...         ...       ...                ...        ...  ...    ...    ...   \n",
      "124420 -0.00683 -0.093171          -0.059062  -0.821048  ...  False  False   \n",
      "113800 -0.00683 -0.093171          -0.059062   1.217955  ...  False  False   \n",
      "134103 -0.00683 -0.093171          -0.059062  -0.821048  ...  False  False   \n",
      "37025  -0.00683 -0.093171          -0.059062  -0.821048  ...  False  False   \n",
      "104051 -0.00683  0.899508          -0.059062   1.217955  ...  False  False   \n",
      "\n",
      "        RSTOS0   RSTR     S0     S1     S2     S3     SF     SH  \n",
      "136337   False  False  False  False  False  False   True  False  \n",
      "75917    False  False   True  False  False  False  False  False  \n",
      "31492    False  False  False  False  False  False  False   True  \n",
      "73810    False  False  False  False  False  False   True  False  \n",
      "31324    False  False  False  False  False  False   True  False  \n",
      "...        ...    ...    ...    ...    ...    ...    ...    ...  \n",
      "124420   False  False  False  False  False  False   True  False  \n",
      "113800   False  False  False  False  False  False   True  False  \n",
      "134103   False  False  False  False  False  False   True  False  \n",
      "37025    False  False   True  False  False  False  False  False  \n",
      "104051   False  False  False  False  False  False   True  False  \n",
      "\n",
      "[133563 rows x 123 columns]\n"
     ]
    }
   ],
   "source": [
    "# one-hot-encoding categorical columns\n",
    "data = pd.get_dummies(data,columns=['protocol_type','service','flag'],prefix=\"\",prefix_sep=\"\")  \n",
    "print(data.shape)\n",
    "print(data)"
   ]
  },
  {
   "cell_type": "code",
   "execution_count": 132,
   "metadata": {
    "ExecuteTime": {
     "end_time": "2024-04-12T19:25:35.054710300Z",
     "start_time": "2024-04-12T19:25:34.922372800Z"
    }
   },
   "outputs": [
    {
     "name": "stdout",
     "output_type": "stream",
     "text": [
      "136337    2\n",
      "75917     0\n",
      "31492     1\n",
      "73810     3\n",
      "31324     3\n",
      "         ..\n",
      "124420    1\n",
      "113800    3\n",
      "134103    2\n",
      "37025     0\n",
      "104051    0\n",
      "Name: intrusion, Length: 133563, dtype: int32\n",
      "X_train has shape: (133563, 122) \n",
      "y_train has shape: (133563,)\n"
     ]
    }
   ],
   "source": [
    "X_data= data.drop(labels=['intrusion'], axis=1)\n",
    "y_data= data['intrusion']\n",
    "print(y_data)\n",
    "print('X_train has shape:',X_data.shape,'\\ny_train has shape:',y_data.shape)"
   ]
  },
  {
   "cell_type": "code",
   "execution_count": 133,
   "metadata": {
    "ExecuteTime": {
     "end_time": "2024-04-12T19:25:35.055709700Z",
     "start_time": "2024-04-12T19:25:35.049589Z"
    }
   },
   "outputs": [
    {
     "data": {
      "text/plain": "136337    2\n75917     0\n31492     1\n73810     3\n31324     3\n         ..\n124420    1\n113800    3\n134103    2\n37025     0\n104051    0\nName: intrusion, Length: 133563, dtype: int32"
     },
     "execution_count": 133,
     "metadata": {},
     "output_type": "execute_result"
    }
   ],
   "source": [
    "y_data"
   ]
  },
  {
   "cell_type": "code",
   "execution_count": 134,
   "metadata": {
    "ExecuteTime": {
     "end_time": "2024-04-12T19:25:35.736097500Z",
     "start_time": "2024-04-12T19:25:35.054710300Z"
    }
   },
   "outputs": [
    {
     "name": "stdout",
     "output_type": "stream",
     "text": [
      "[[0 0 1 0]\n",
      " [1 0 0 0]\n",
      " [0 1 0 0]\n",
      " ...\n",
      " [0 0 1 0]\n",
      " [1 0 0 0]\n",
      " [1 0 0 0]]\n"
     ]
    }
   ],
   "source": [
    "from sklearn.preprocessing import LabelBinarizer\n",
    "y_data = LabelBinarizer().fit_transform(y_data)\n",
    "print(y_data)\n",
    "X_data=np.array(X_data)\n",
    "y_data=np.array(y_data)"
   ]
  },
  {
   "cell_type": "code",
   "execution_count": 135,
   "metadata": {
    "ExecuteTime": {
     "end_time": "2024-04-12T19:25:36.577640600Z",
     "start_time": "2024-04-12T19:25:35.726098800Z"
    }
   },
   "outputs": [
    {
     "name": "stdout",
     "output_type": "stream",
     "text": [
      "(106850, 122) \n",
      " (26713, 122)\n"
     ]
    }
   ],
   "source": [
    "X_train, X_test, y_train, y_test = train_test_split(X_data,y_data, test_size=0.2, random_state=42)\n",
    "print(X_train.shape,'\\n',X_test.shape)"
   ]
  },
  {
   "cell_type": "code",
   "execution_count": 136,
   "metadata": {
    "ExecuteTime": {
     "end_time": "2024-04-12T19:25:36.578637700Z",
     "start_time": "2024-04-12T19:25:36.570638600Z"
    }
   },
   "outputs": [
    {
     "name": "stdout",
     "output_type": "stream",
     "text": [
      "106850\n",
      "(106850, 1, 122)\n"
     ]
    }
   ],
   "source": [
    "# reshape input to be [samples, time steps, features]\n",
    "print(len(X_train))\n",
    "X_train = np.reshape(X_train, ( X_train.shape[0], 1 , X_train.shape[1] ))\n",
    "X_test = np.reshape(X_test, ( X_test.shape[0], 1,  X_test.shape[1] ))\n",
    "print(X_train.shape)"
   ]
  },
  {
   "cell_type": "code",
   "execution_count": 137,
   "metadata": {
    "ExecuteTime": {
     "end_time": "2024-04-12T19:25:36.709996900Z",
     "start_time": "2024-04-12T19:25:36.575637100Z"
    }
   },
   "outputs": [
    {
     "name": "stderr",
     "output_type": "stream",
     "text": [
      "C:\\Users\\wasa\\PycharmProjects\\Information-Security-Service\\venv\\Lib\\site-packages\\keras\\src\\layers\\rnn\\rnn.py:204: UserWarning: Do not pass an `input_shape`/`input_dim` argument to a layer. When using Sequential models, prefer using an `Input(shape)` object as the first layer in the model instead.\n"
     ]
    }
   ],
   "source": [
    "model = Sequential() # initializing model\n",
    "model.add(LSTM(64,return_sequences=True,input_shape = (1, X_train.shape[2])))\n",
    "model.add(Dropout(0.2))\n",
    "model.add(LSTM(64,return_sequences=True))\n",
    "model.add(Dropout(0.2))\n",
    "model.add(LSTM(32,return_sequences=True))\n",
    "model.add(Flatten())\n",
    "model.add(Dense(units=50))\n",
    "# output layer with softmax activation\n",
    "model.add(Dense(units=4,activation='softmax'))"
   ]
  },
  {
   "cell_type": "code",
   "execution_count": 138,
   "metadata": {
    "ExecuteTime": {
     "end_time": "2024-04-12T19:25:36.744982800Z",
     "start_time": "2024-04-12T19:25:36.704463Z"
    }
   },
   "outputs": [],
   "source": [
    "model.compile(loss='categorical_crossentropy', optimizer='adam', metrics=['accuracy',tf.keras.metrics.Precision(),tf.keras.metrics.Recall()])"
   ]
  },
  {
   "cell_type": "code",
   "execution_count": 139,
   "metadata": {
    "ExecuteTime": {
     "end_time": "2024-04-12T19:25:37.601810700Z",
     "start_time": "2024-04-12T19:25:36.721984800Z"
    }
   },
   "outputs": [],
   "source": [
    "X_train = X_train.astype(float)\n",
    "y_train = y_train.astype(float)"
   ]
  },
  {
   "cell_type": "code",
   "execution_count": 140,
   "metadata": {
    "ExecuteTime": {
     "end_time": "2024-04-12T19:25:37.611745900Z",
     "start_time": "2024-04-12T19:25:37.603807700Z"
    }
   },
   "outputs": [
    {
     "name": "stdout",
     "output_type": "stream",
     "text": [
      "[[0. 0. 0. 1.]\n",
      " [0. 0. 0. 1.]\n",
      " [1. 0. 0. 0.]\n",
      " ...\n",
      " [0. 0. 0. 1.]\n",
      " [0. 0. 0. 1.]\n",
      " [1. 0. 0. 0.]]\n"
     ]
    }
   ],
   "source": [
    "print(y_train)"
   ]
  },
  {
   "cell_type": "code",
   "execution_count": 141,
   "metadata": {
    "ExecuteTime": {
     "end_time": "2024-04-12T19:26:00.436091100Z",
     "start_time": "2024-04-12T19:25:37.606743500Z"
    }
   },
   "outputs": [
    {
     "name": "stdout",
     "output_type": "stream",
     "text": [
      "Epoch 1/30\n",
      "\u001B[1m18/18\u001B[0m \u001B[32m━━━━━━━━━━━━━━━━━━━━\u001B[0m\u001B[37m\u001B[0m \u001B[1m5s\u001B[0m 62ms/step - accuracy: 0.4538 - loss: 1.3584 - precision_2: 0.0000e+00 - recall_2: 0.0000e+00 - val_accuracy: 0.7919 - val_loss: 1.2337 - val_precision_2: 0.0000e+00 - val_recall_2: 0.0000e+00\n",
      "Epoch 2/30\n",
      "\u001B[1m18/18\u001B[0m \u001B[32m━━━━━━━━━━━━━━━━━━━━\u001B[0m\u001B[37m\u001B[0m \u001B[1m1s\u001B[0m 32ms/step - accuracy: 0.7967 - loss: 1.1428 - precision_2: 0.5571 - recall_2: 0.0482 - val_accuracy: 0.8297 - val_loss: 0.7425 - val_precision_2: 0.8723 - val_recall_2: 0.4717\n",
      "Epoch 3/30\n",
      "\u001B[1m18/18\u001B[0m \u001B[32m━━━━━━━━━━━━━━━━━━━━\u001B[0m\u001B[37m\u001B[0m \u001B[1m1s\u001B[0m 32ms/step - accuracy: 0.8315 - loss: 0.6559 - precision_2: 0.8783 - recall_2: 0.6057 - val_accuracy: 0.8459 - val_loss: 0.4445 - val_precision_2: 0.8940 - val_recall_2: 0.8133\n",
      "Epoch 4/30\n",
      "\u001B[1m18/18\u001B[0m \u001B[32m━━━━━━━━━━━━━━━━━━━━\u001B[0m\u001B[37m\u001B[0m \u001B[1m1s\u001B[0m 33ms/step - accuracy: 0.8441 - loss: 0.4276 - precision_2: 0.8999 - recall_2: 0.8183 - val_accuracy: 0.8570 - val_loss: 0.3461 - val_precision_2: 0.9358 - val_recall_2: 0.8372\n",
      "Epoch 5/30\n",
      "\u001B[1m18/18\u001B[0m \u001B[32m━━━━━━━━━━━━━━━━━━━━\u001B[0m\u001B[37m\u001B[0m \u001B[1m1s\u001B[0m 32ms/step - accuracy: 0.8811 - loss: 0.3334 - precision_2: 0.9402 - recall_2: 0.8378 - val_accuracy: 0.9284 - val_loss: 0.2681 - val_precision_2: 0.9519 - val_recall_2: 0.8856\n",
      "Epoch 6/30\n",
      "\u001B[1m18/18\u001B[0m \u001B[32m━━━━━━━━━━━━━━━━━━━━\u001B[0m\u001B[37m\u001B[0m \u001B[1m1s\u001B[0m 32ms/step - accuracy: 0.9324 - loss: 0.2527 - precision_2: 0.9531 - recall_2: 0.8979 - val_accuracy: 0.9395 - val_loss: 0.2011 - val_precision_2: 0.9546 - val_recall_2: 0.9290\n",
      "Epoch 7/30\n",
      "\u001B[1m18/18\u001B[0m \u001B[32m━━━━━━━━━━━━━━━━━━━━\u001B[0m\u001B[37m\u001B[0m \u001B[1m1s\u001B[0m 33ms/step - accuracy: 0.9404 - loss: 0.1970 - precision_2: 0.9553 - recall_2: 0.9297 - val_accuracy: 0.9471 - val_loss: 0.1685 - val_precision_2: 0.9589 - val_recall_2: 0.9415\n",
      "Epoch 8/30\n",
      "\u001B[1m18/18\u001B[0m \u001B[32m━━━━━━━━━━━━━━━━━━━━\u001B[0m\u001B[37m\u001B[0m \u001B[1m1s\u001B[0m 33ms/step - accuracy: 0.9466 - loss: 0.1680 - precision_2: 0.9581 - recall_2: 0.9411 - val_accuracy: 0.9498 - val_loss: 0.1465 - val_precision_2: 0.9634 - val_recall_2: 0.9458\n",
      "Epoch 9/30\n",
      "\u001B[1m18/18\u001B[0m \u001B[32m━━━━━━━━━━━━━━━━━━━━\u001B[0m\u001B[37m\u001B[0m \u001B[1m1s\u001B[0m 33ms/step - accuracy: 0.9497 - loss: 0.1505 - precision_2: 0.9620 - recall_2: 0.9452 - val_accuracy: 0.9525 - val_loss: 0.1288 - val_precision_2: 0.9686 - val_recall_2: 0.9493\n",
      "Epoch 10/30\n",
      "\u001B[1m18/18\u001B[0m \u001B[32m━━━━━━━━━━━━━━━━━━━━\u001B[0m\u001B[37m\u001B[0m \u001B[1m1s\u001B[0m 32ms/step - accuracy: 0.9521 - loss: 0.1330 - precision_2: 0.9664 - recall_2: 0.9481 - val_accuracy: 0.9572 - val_loss: 0.1127 - val_precision_2: 0.9729 - val_recall_2: 0.9533\n",
      "Epoch 11/30\n",
      "\u001B[1m18/18\u001B[0m \u001B[32m━━━━━━━━━━━━━━━━━━━━\u001B[0m\u001B[37m\u001B[0m \u001B[1m1s\u001B[0m 32ms/step - accuracy: 0.9570 - loss: 0.1162 - precision_2: 0.9715 - recall_2: 0.9512 - val_accuracy: 0.9641 - val_loss: 0.0980 - val_precision_2: 0.9759 - val_recall_2: 0.9554\n",
      "Epoch 12/30\n",
      "\u001B[1m18/18\u001B[0m \u001B[32m━━━━━━━━━━━━━━━━━━━━\u001B[0m\u001B[37m\u001B[0m \u001B[1m1s\u001B[0m 33ms/step - accuracy: 0.9617 - loss: 0.1034 - precision_2: 0.9737 - recall_2: 0.9524 - val_accuracy: 0.9716 - val_loss: 0.0842 - val_precision_2: 0.9805 - val_recall_2: 0.9649\n",
      "Epoch 13/30\n",
      "\u001B[1m18/18\u001B[0m \u001B[32m━━━━━━━━━━━━━━━━━━━━\u001B[0m\u001B[37m\u001B[0m \u001B[1m1s\u001B[0m 33ms/step - accuracy: 0.9699 - loss: 0.0874 - precision_2: 0.9786 - recall_2: 0.9613 - val_accuracy: 0.9783 - val_loss: 0.0726 - val_precision_2: 0.9829 - val_recall_2: 0.9697\n",
      "Epoch 14/30\n",
      "\u001B[1m18/18\u001B[0m \u001B[32m━━━━━━━━━━━━━━━━━━━━\u001B[0m\u001B[37m\u001B[0m \u001B[1m1s\u001B[0m 32ms/step - accuracy: 0.9748 - loss: 0.0798 - precision_2: 0.9798 - recall_2: 0.9667 - val_accuracy: 0.9812 - val_loss: 0.0635 - val_precision_2: 0.9843 - val_recall_2: 0.9771\n",
      "Epoch 15/30\n",
      "\u001B[1m18/18\u001B[0m \u001B[32m━━━━━━━━━━━━━━━━━━━━\u001B[0m\u001B[37m\u001B[0m \u001B[1m1s\u001B[0m 32ms/step - accuracy: 0.9768 - loss: 0.0715 - precision_2: 0.9803 - recall_2: 0.9731 - val_accuracy: 0.9826 - val_loss: 0.0572 - val_precision_2: 0.9844 - val_recall_2: 0.9795\n",
      "Epoch 16/30\n",
      "\u001B[1m18/18\u001B[0m \u001B[32m━━━━━━━━━━━━━━━━━━━━\u001B[0m\u001B[37m\u001B[0m \u001B[1m1s\u001B[0m 33ms/step - accuracy: 0.9794 - loss: 0.0640 - precision_2: 0.9815 - recall_2: 0.9766 - val_accuracy: 0.9837 - val_loss: 0.0526 - val_precision_2: 0.9851 - val_recall_2: 0.9817\n",
      "Epoch 17/30\n",
      "\u001B[1m18/18\u001B[0m \u001B[32m━━━━━━━━━━━━━━━━━━━━\u001B[0m\u001B[37m\u001B[0m \u001B[1m1s\u001B[0m 32ms/step - accuracy: 0.9799 - loss: 0.0599 - precision_2: 0.9817 - recall_2: 0.9779 - val_accuracy: 0.9845 - val_loss: 0.0496 - val_precision_2: 0.9862 - val_recall_2: 0.9830\n",
      "Epoch 18/30\n",
      "\u001B[1m18/18\u001B[0m \u001B[32m━━━━━━━━━━━━━━━━━━━━\u001B[0m\u001B[37m\u001B[0m \u001B[1m1s\u001B[0m 32ms/step - accuracy: 0.9818 - loss: 0.0556 - precision_2: 0.9831 - recall_2: 0.9801 - val_accuracy: 0.9854 - val_loss: 0.0471 - val_precision_2: 0.9865 - val_recall_2: 0.9842\n",
      "Epoch 19/30\n",
      "\u001B[1m18/18\u001B[0m \u001B[32m━━━━━━━━━━━━━━━━━━━━\u001B[0m\u001B[37m\u001B[0m \u001B[1m1s\u001B[0m 32ms/step - accuracy: 0.9818 - loss: 0.0533 - precision_2: 0.9831 - recall_2: 0.9803 - val_accuracy: 0.9859 - val_loss: 0.0454 - val_precision_2: 0.9869 - val_recall_2: 0.9850\n",
      "Epoch 20/30\n",
      "\u001B[1m18/18\u001B[0m \u001B[32m━━━━━━━━━━━━━━━━━━━━\u001B[0m\u001B[37m\u001B[0m \u001B[1m1s\u001B[0m 32ms/step - accuracy: 0.9830 - loss: 0.0502 - precision_2: 0.9841 - recall_2: 0.9818 - val_accuracy: 0.9877 - val_loss: 0.0433 - val_precision_2: 0.9881 - val_recall_2: 0.9869\n",
      "Epoch 21/30\n",
      "\u001B[1m18/18\u001B[0m \u001B[32m━━━━━━━━━━━━━━━━━━━━\u001B[0m\u001B[37m\u001B[0m \u001B[1m1s\u001B[0m 32ms/step - accuracy: 0.9839 - loss: 0.0494 - precision_2: 0.9848 - recall_2: 0.9827 - val_accuracy: 0.9878 - val_loss: 0.0422 - val_precision_2: 0.9886 - val_recall_2: 0.9874\n",
      "Epoch 22/30\n",
      "\u001B[1m18/18\u001B[0m \u001B[32m━━━━━━━━━━━━━━━━━━━━\u001B[0m\u001B[37m\u001B[0m \u001B[1m1s\u001B[0m 35ms/step - accuracy: 0.9835 - loss: 0.0497 - precision_2: 0.9844 - recall_2: 0.9825 - val_accuracy: 0.9878 - val_loss: 0.0409 - val_precision_2: 0.9884 - val_recall_2: 0.9870\n",
      "Epoch 23/30\n",
      "\u001B[1m18/18\u001B[0m \u001B[32m━━━━━━━━━━━━━━━━━━━━\u001B[0m\u001B[37m\u001B[0m \u001B[1m1s\u001B[0m 33ms/step - accuracy: 0.9835 - loss: 0.0486 - precision_2: 0.9844 - recall_2: 0.9828 - val_accuracy: 0.9882 - val_loss: 0.0402 - val_precision_2: 0.9885 - val_recall_2: 0.9874\n",
      "Epoch 24/30\n",
      "\u001B[1m18/18\u001B[0m \u001B[32m━━━━━━━━━━━━━━━━━━━━\u001B[0m\u001B[37m\u001B[0m \u001B[1m1s\u001B[0m 32ms/step - accuracy: 0.9843 - loss: 0.0465 - precision_2: 0.9852 - recall_2: 0.9835 - val_accuracy: 0.9887 - val_loss: 0.0390 - val_precision_2: 0.9890 - val_recall_2: 0.9881\n",
      "Epoch 25/30\n",
      "\u001B[1m18/18\u001B[0m \u001B[32m━━━━━━━━━━━━━━━━━━━━\u001B[0m\u001B[37m\u001B[0m \u001B[1m1s\u001B[0m 32ms/step - accuracy: 0.9841 - loss: 0.0450 - precision_2: 0.9849 - recall_2: 0.9834 - val_accuracy: 0.9888 - val_loss: 0.0383 - val_precision_2: 0.9892 - val_recall_2: 0.9883\n",
      "Epoch 26/30\n",
      "\u001B[1m18/18\u001B[0m \u001B[32m━━━━━━━━━━━━━━━━━━━━\u001B[0m\u001B[37m\u001B[0m \u001B[1m1s\u001B[0m 32ms/step - accuracy: 0.9865 - loss: 0.0413 - precision_2: 0.9871 - recall_2: 0.9858 - val_accuracy: 0.9887 - val_loss: 0.0378 - val_precision_2: 0.9890 - val_recall_2: 0.9882\n",
      "Epoch 27/30\n",
      "\u001B[1m18/18\u001B[0m \u001B[32m━━━━━━━━━━━━━━━━━━━━\u001B[0m\u001B[37m\u001B[0m \u001B[1m1s\u001B[0m 34ms/step - accuracy: 0.9851 - loss: 0.0424 - precision_2: 0.9860 - recall_2: 0.9844 - val_accuracy: 0.9889 - val_loss: 0.0370 - val_precision_2: 0.9892 - val_recall_2: 0.9883\n",
      "Epoch 28/30\n",
      "\u001B[1m18/18\u001B[0m \u001B[32m━━━━━━━━━━━━━━━━━━━━\u001B[0m\u001B[37m\u001B[0m \u001B[1m1s\u001B[0m 35ms/step - accuracy: 0.9865 - loss: 0.0417 - precision_2: 0.9871 - recall_2: 0.9857 - val_accuracy: 0.9891 - val_loss: 0.0364 - val_precision_2: 0.9894 - val_recall_2: 0.9887\n",
      "Epoch 29/30\n",
      "\u001B[1m18/18\u001B[0m \u001B[32m━━━━━━━━━━━━━━━━━━━━\u001B[0m\u001B[37m\u001B[0m \u001B[1m1s\u001B[0m 32ms/step - accuracy: 0.9862 - loss: 0.0403 - precision_2: 0.9868 - recall_2: 0.9855 - val_accuracy: 0.9892 - val_loss: 0.0359 - val_precision_2: 0.9895 - val_recall_2: 0.9888\n",
      "Epoch 30/30\n",
      "\u001B[1m18/18\u001B[0m \u001B[32m━━━━━━━━━━━━━━━━━━━━\u001B[0m\u001B[37m\u001B[0m \u001B[1m1s\u001B[0m 32ms/step - accuracy: 0.9865 - loss: 0.0405 - precision_2: 0.9873 - recall_2: 0.9861 - val_accuracy: 0.9892 - val_loss: 0.0354 - val_precision_2: 0.9897 - val_recall_2: 0.9889\n"
     ]
    }
   ],
   "source": [
    "history = model.fit(X_train, y_train, epochs=30, batch_size=5000,validation_split=0.2)"
   ]
  },
  {
   "cell_type": "code",
   "execution_count": 142,
   "metadata": {
    "ExecuteTime": {
     "end_time": "2024-04-12T19:26:00.651123100Z",
     "start_time": "2024-04-12T19:26:00.437091Z"
    }
   },
   "outputs": [],
   "source": [
    "X_test = X_test.astype(float)\n",
    "y_test = y_test.astype(float)"
   ]
  },
  {
   "cell_type": "code",
   "execution_count": 143,
   "metadata": {
    "ExecuteTime": {
     "end_time": "2024-04-12T19:26:01.551709Z",
     "start_time": "2024-04-12T19:26:00.652122900Z"
    }
   },
   "outputs": [
    {
     "name": "stdout",
     "output_type": "stream",
     "text": [
      "\u001B[1m835/835\u001B[0m \u001B[32m━━━━━━━━━━━━━━━━━━━━\u001B[0m\u001B[37m\u001B[0m \u001B[1m1s\u001B[0m 989us/step - accuracy: 0.9896 - loss: 0.0346 - precision_2: 0.9902 - recall_2: 0.9894\n",
      "Test results - Loss: 0.036833249032497406 - Accuracy: 98.90689849853516%\n"
     ]
    }
   ],
   "source": [
    "# predicting target attribute on testing dataset\n",
    "test_results = model.evaluate(X_test, y_test,verbose=1)\n",
    "print(f'Test results - Loss: {test_results[0]} - Accuracy: {test_results[1]*100}%')"
   ]
  },
  {
   "cell_type": "code",
   "execution_count": 144,
   "metadata": {
    "ExecuteTime": {
     "end_time": "2024-04-12T19:26:01.896068400Z",
     "start_time": "2024-04-12T19:26:01.551709Z"
    }
   },
   "outputs": [
    {
     "name": "stdout",
     "output_type": "stream",
     "text": [
      "\u001B[1m209/209\u001B[0m \u001B[32m━━━━━━━━━━━━━━━━━━━━\u001B[0m\u001B[37m\u001B[0m \u001B[1m0s\u001B[0m 1ms/step - accuracy: 0.9896 - loss: 0.0346 - precision_2: 0.9902 - recall_2: 0.9894\n"
     ]
    }
   ],
   "source": [
    "results = model.evaluate(X_test, y_test,batch_size = 128)"
   ]
  },
  {
   "cell_type": "code",
   "execution_count": 145,
   "metadata": {
    "ExecuteTime": {
     "end_time": "2024-04-12T19:26:01.904068200Z",
     "start_time": "2024-04-12T19:26:01.897068200Z"
    }
   },
   "outputs": [
    {
     "name": "stdout",
     "output_type": "stream",
     "text": [
      "['loss', 'compile_metrics']\n",
      "[0.036833252757787704, 0.9890689849853516, 0.9896215796470642, 0.98876953125]\n"
     ]
    }
   ],
   "source": [
    "print(model.metrics_names)\n",
    "print(results)"
   ]
  },
  {
   "cell_type": "code",
   "execution_count": 146,
   "metadata": {
    "ExecuteTime": {
     "end_time": "2024-04-12T19:26:03.600762600Z",
     "start_time": "2024-04-12T19:26:01.901071200Z"
    }
   },
   "outputs": [
    {
     "name": "stdout",
     "output_type": "stream",
     "text": [
      "\u001B[1m835/835\u001B[0m \u001B[32m━━━━━━━━━━━━━━━━━━━━\u001B[0m\u001B[37m\u001B[0m \u001B[1m1s\u001B[0m 1ms/step\n",
      "              precision    recall  f1-score   support\n",
      "\n",
      "           0       1.00      1.00      1.00      9689\n",
      "           1       0.97      0.98      0.98      2515\n",
      "           2       0.92      0.89      0.91       708\n",
      "           3       0.99      0.99      0.99     13801\n",
      "\n",
      "    accuracy                           0.99     26713\n",
      "   macro avg       0.97      0.96      0.97     26713\n",
      "weighted avg       0.99      0.99      0.99     26713\n"
     ]
    }
   ],
   "source": [
    "from sklearn.metrics import classification_report\n",
    "\n",
    "y_predict = model.predict(X_test)\n",
    "y_pred = y_predict.argmax(axis=-1)\n",
    "y_test = y_test.argmax(axis = -1 )\n",
    "report = classification_report(y_test, y_pred)\n",
    "print(report)"
   ]
  },
  {
   "cell_type": "code",
   "execution_count": 149,
   "metadata": {
    "ExecuteTime": {
     "end_time": "2024-04-12T19:27:46.376292400Z",
     "start_time": "2024-04-12T19:27:46.347148100Z"
    }
   },
   "outputs": [],
   "source": [
    "import keras\n",
    "\n",
    "keras.saving.save_model(model, \"LSTM.keras\")"
   ]
  },
  {
   "cell_type": "code",
   "execution_count": null,
   "outputs": [],
   "source": [],
   "metadata": {
    "collapsed": false
   }
  }
 ],
 "metadata": {
  "kernelspec": {
   "display_name": "Python 3",
   "language": "python",
   "name": "python3"
  },
  "language_info": {
   "codemirror_mode": {
    "name": "ipython",
    "version": 3
   },
   "file_extension": ".py",
   "mimetype": "text/x-python",
   "name": "python",
   "nbconvert_exporter": "python",
   "pygments_lexer": "ipython3",
   "version": "3.10.0"
  }
 },
 "nbformat": 4,
 "nbformat_minor": 2
}
